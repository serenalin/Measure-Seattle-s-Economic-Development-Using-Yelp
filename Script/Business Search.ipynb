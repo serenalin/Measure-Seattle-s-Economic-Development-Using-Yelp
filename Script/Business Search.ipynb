{
 "cells": [
  {
   "cell_type": "markdown",
   "metadata": {},
   "source": [
    "# Yelp API - Business Search"
   ]
  },
  {
   "cell_type": "markdown",
   "metadata": {},
   "source": [
    "## 0 Get ready\n",
    "Import necessary libraries and set the parameters for api"
   ]
  },
  {
   "cell_type": "code",
   "execution_count": 1,
   "metadata": {},
   "outputs": [],
   "source": [
    "# request setting\n",
    "# https://github.com/Yelp/yelp-python\n",
    "from yelp.client import Client\n",
    "import requests\n",
    "import pandas as pd\n",
    "import numpy as np\n",
    "import json\n",
    "# For Python 3.0 and later\n",
    "from urllib.error import HTTPError\n",
    "from urllib.parse import quote\n",
    "from urllib.parse import urlencode"
   ]
  },
  {
   "cell_type": "code",
   "execution_count": 69,
   "metadata": {},
   "outputs": [],
   "source": [
    "# set api parameters\n",
    "API_KEY = open('api.txt','r').read()\n",
    "API_HOST = 'https://api.yelp.com'\n",
    "SEARCH_PATH = '/v3/businesses/'\n",
    "SEARCH_LIMIT = 50\n",
    "SEARCH_REVIEW = 'v3/businesses/' #{id}/reviews"
   ]
  },
  {
   "cell_type": "code",
   "execution_count": 70,
   "metadata": {},
   "outputs": [
    {
     "data": {
      "text/plain": [
       "'/v3/businesses/search'"
      ]
     },
     "execution_count": 70,
     "metadata": {},
     "output_type": "execute_result"
    }
   ],
   "source": [
    "SEARCH_PATH+'search'"
   ]
  },
  {
   "cell_type": "markdown",
   "metadata": {},
   "source": [
    "## 1 Create functions\n",
    "Functions:\n",
    "1. request: take the path, api_key ,and arguments as inputs, then send request to the api.\n",
    "2. search: take in api_key, term, location, and offset number, then return a request to `request` function\n",
    "3. parse_json: parse the json file downloaded from Postman and return as a panda dataframe.\n",
    "4. url_arg: generate the url parameters for request\n",
    "5. clean: clean the data requested from Yelp api and return a dataframe."
   ]
  },
  {
   "cell_type": "code",
   "execution_count": 3,
   "metadata": {},
   "outputs": [],
   "source": [
    "# define a function to send request\n",
    "def request(host, path, api_key, url_params=None):\n",
    "    \"\"\"Given your API_KEY, send a GET request to the API.\n",
    "    Args:\n",
    "        host (str): The domain host of the API.\n",
    "        path (str): The path of the API after the domain.\n",
    "        API_KEY (str): Your API Key.\n",
    "        url_params (dict): An optional set of query parameters in the request.\n",
    "    Returns:\n",
    "        dict: The JSON response from the request.\n",
    "    Raises:\n",
    "        HTTPError: An error occurs from the HTTP request.\n",
    "    \"\"\"\n",
    "    url_params = url_params or {}\n",
    "    url = '{0}{1}'.format(host, quote(path.encode('utf8')))\n",
    "    headers = {\n",
    "        'Authorization': 'Bearer %s' % api_key,\n",
    "    }\n",
    "\n",
    "    #print(u'Querying {0} ...'.format(url))\n",
    "\n",
    "    response = requests.request('GET', url, headers=headers, params=url_params)\n",
    "\n",
    "    return response.json()"
   ]
  },
  {
   "cell_type": "code",
   "execution_count": 4,
   "metadata": {},
   "outputs": [],
   "source": [
    "# define a function to search business\n",
    "def search(api_key, term, location, offset):\n",
    "    \"\"\"Query the Search API by a search term and location.\n",
    "    Args:\n",
    "        term (str): The search term passed to the API.\n",
    "        location (str): The search location passed to the API.\n",
    "    Returns:\n",
    "        dict: The JSON response from the request.\n",
    "    \"\"\"\n",
    "\n",
    "    url_params = {\n",
    "        'term': term.replace(' ', '+'),\n",
    "        'location': location.replace(' ', '+'),\n",
    "        'limit': SEARCH_LIMIT,\n",
    "        'offset':offset\n",
    "    }\n",
    "    return request(API_HOST, SEARCH_PATH, API_KEY, url_params=url_params)"
   ]
  },
  {
   "cell_type": "code",
   "execution_count": 5,
   "metadata": {},
   "outputs": [],
   "source": [
    "# define a function to parse the json file from Postman\n",
    "def parse_json(file_path, name=None):\n",
    "    \"\"\"parse the json file and output a pandas DataFrame. \n",
    "    If the file is downloaded from Postman, input the search type. Otherwise, leave that empty\"\"\"\n",
    "    temp = []\n",
    "    for line in open(file_path, 'r'):\n",
    "        temp.append(json.loads(line))\n",
    "    if name != None:\n",
    "        temp = pd.DataFrame.from_dict(temp[0][name])\n",
    "    return temp"
   ]
  },
  {
   "cell_type": "code",
   "execution_count": 6,
   "metadata": {},
   "outputs": [],
   "source": [
    "def url_arg(location, term='restaurants', categories=None, offset=0):\n",
    "    \"\"\"Return the url parameters for search function.\"\"\"\n",
    "    url_params = {\n",
    "            'term': term.replace(' ', '+'),\n",
    "            'location': location.replace(' ', '+'),\n",
    "            'limit': SEARCH_LIMIT,\n",
    "            'offset':offset,\n",
    "        }\n",
    "    if categories is not None:\n",
    "        url_params['categories']=categories.replace(' ','+')\n",
    "    return url_params"
   ]
  },
  {
   "cell_type": "markdown",
   "metadata": {},
   "source": [
    "### Parameters for business search\n",
    "[Yelp Fusion | /businesses/search](https://www.yelp.com/developers/documentation/v3/business_search)\n",
    "\n",
    "- term (string)    \n",
    "Optional. Search term, for example \"food\" or \"restaurants\". The term may also be business names, such as \"Starbucks\". If term is not included the endpoint will default to searching across businesses from a small number of popular categories.  \n",
    "- location (string)  \n",
    "Required if either latitude or longitude is not provided. This string indicates the geographic area to be used when searching for businesses. Examples: \"New York City\", \"NYC\", \"350 5th Ave, New York, NY 10118\". Businesses returned in the response may not be strictly within the specified location.  \n",
    "- latitude (decimal)  \n",
    "Required if location is not provided. Latitude of the location you want to search nearby.  \n",
    "- longitude (decimal)  \n",
    "Required if location is not provided. Longitude of the location you want to search nearby.  \n",
    "- radius (int)  \n",
    "Optional. A suggested search radius in meters. This field is used as a suggestion to the search. The actual search radius may be lower than the suggested radius in dense urban areas, and higher in regions of less business density. If the specified value is too large, a AREA_TOO_LARGE error may be returned. The max value is 40000 meters (about 25 miles).  \n",
    "- categories (string)  \n",
    "Optional. Categories to filter the search results with. See the list of supported categories. The category filter can be a list of comma delimited categories. For example, \"bars,french\" will filter by Bars OR French. The category identifier should be used (for example \"discgolf\", not \"Disc Golf\").  \n",
    "- locale (string)  \n",
    "Optional. Specify the locale into which to localize the business information. See the list of supported locales. Defaults to en_US.  \n",
    "- limit (int)  \n",
    "Optional. Number of business results to return. By default, it will return 20. Maximum is 50.  \n",
    "- offset (int)  \n",
    "Optional. Offset the list of returned business results by this amount.  \n",
    "- sort_by (string)  \n",
    "Optional. Suggestion to the search algorithm that the results be sorted by one of the these modes: best_match, rating, review_count or distance. The default is best_match. Note that specifying the sort_by is a suggestion (not strictly enforced) to Yelp's search, which considers multiple input parameters to return the most relevant results. For example, the rating sort is not strictly sorted by the rating value, but by an adjusted rating value that takes into account the number of ratings, similar to a Bayesian average. This is to prevent skewing results to businesses with a single review.  \n",
    "- price (string)  \n",
    "Optional. Pricing levels to filter the search result with: 1 to 4 dolar signs. The price filter can be a list of comma delimited pricing levels. For example, \"1, 2, 3\".  \n",
    "- open_now (boolean)  \n",
    "Optional. Default to false. When set to true, only return the businesses open now. Notice that open_at and open_now cannot be used together.  \n",
    "- open_at (int)  \n",
    "Optional. An integer represending the Unix time in the same timezone of the search location. If specified, it will return business open at the given time. Notice that open_at and open_now cannot be used together.  \n",
    "- attributes (string)  \n",
    "Optional. Try these additional filters to return specific search results!  \n",
    "    - hot_and_new - popular businesses which recently joined Yelp\n",
    "    - request_a_quote - businesses which actively reply to Request a Quote inquiries\n",
    "    - reservation - businesses with Yelp Reservations bookings enabled on their profile page\n",
    "    - waitlist_reservation - businesses with Yelp Waitlist bookings enabled on their profile screen (iOS/Android)\n",
    "    - cashback - businesses offering Yelp Cash Back to in-house customers\n",
    "    - deals - businesses offering Yelp Deals on their profile page\n",
    "    - gender_neutral_restrooms - businesses which provide gender neutral restrooms\n",
    "    - open_to_all - businesses which are Open To All\n",
    "    - wheelchair_accessible - businesses which are Wheelchair Accessible  \n",
    "You can combine multiple attributes by providing a comma separated like \"attribute1,attribute2\". If multiple attributes are used, only businesses that satisfy ALL attributes will be returned in search results. For example, the attributes \"hot_and_new,cashback\" will return businesses that are Hot and New AND offer Cash Back."
   ]
  },
  {
   "cell_type": "markdown",
   "metadata": {},
   "source": [
    "## 2 Data preparation"
   ]
  },
  {
   "cell_type": "code",
   "execution_count": 8,
   "metadata": {},
   "outputs": [],
   "source": [
    "# get the categories of the data\n",
    "categories = pd.read_json('Data/categories.json')\n",
    "for i in range(len(categories['parents'])):\n",
    "    categories['parents'][i] = ' '.join(categories['parents'][i])\n",
    "\n",
    "# extract food and restaurant categories\n",
    "food_categories = categories[categories['parents']=='food']\n",
    "restaurant_categories = categories[categories['parents']=='restaurants']"
   ]
  },
  {
   "cell_type": "code",
   "execution_count": 64,
   "metadata": {},
   "outputs": [],
   "source": [
    "def clean(df):\n",
    "    \"\"\"Expand the coordinates and location data to individual column\"\"\"\n",
    "    original = ['coordinates','coordinates','location','location','location','location','location','location','location']\n",
    "    expand_columns = ['latitude','longitude','address1','address2','address3','city','zip_code','state','country']\n",
    "    for i in expand_columns:\n",
    "        df[i]=\"\"\n",
    "    for i in range(len(df)):\n",
    "        for j in range(len(original)):\n",
    "            df[expand_columns[j]].iloc[i]=df[original[j]].iloc[i][expand_columns[j]]\n",
    "    df = df.drop(columns=['coordinates','location'])\n",
    "    # delete duplicated restaurants\n",
    "    bool_series = df['id'].duplicated()\n",
    "    cleaned = df[~bool_series]\n",
    "    # drop other cities\n",
    "    cleaned = cleaned[cleaned['city']=='Seattle']\n",
    "    return cleaned"
   ]
  },
  {
   "cell_type": "markdown",
   "metadata": {},
   "source": [
    "## 3 Extract Data\n",
    "### Restaurant by neighborhood\n",
    "Manually break down the area of each neighborhood into multiple small circles and record the latitude and longitude of the circle center and the radius of the circle in the `Neighborhood_locations.csv` file. Import the location and pull all the restaurants within that range. "
   ]
  },
  {
   "cell_type": "code",
   "execution_count": 99,
   "metadata": {},
   "outputs": [],
   "source": [
    "neighborhood = pd.read_csv('Data/Neighborhood_locations.csv')\n",
    "neighborhood = neighborhood[['Neighborhood','central_lat','central_long','radius_m']].dropna()"
   ]
  },
  {
   "cell_type": "code",
   "execution_count": 101,
   "metadata": {},
   "outputs": [],
   "source": [
    "records = range(0,50,50)\n",
    "restaurant_by_neighborhood=pd.DataFrame()\n",
    "for j in range(len(neighborhood)):\n",
    "    list_temp = []\n",
    "    for i in records:\n",
    "        url_params = {\n",
    "            'term': 'restaurants',\n",
    "            'location': 'seattle',\n",
    "            'latitude':float(neighborhood.iloc[j]['central_lat']),\n",
    "            'longitude':float(neighborhood.iloc[j]['central_long']),\n",
    "            'radius':int(neighborhood.iloc[j]['radius_m']),\n",
    "            'limit': SEARCH_LIMIT,\n",
    "            'offset':i\n",
    "        }\n",
    "        temp = request(API_HOST, SEARCH_PATH+'search', API_KEY, url_params)['businesses']\n",
    "        #temp = search(api_key, type_temp,'seattle',i)['businesses']\n",
    "        list_temp = list_temp + temp\n",
    "    list_temp = pd.DataFrame(list_temp)\n",
    "    list_temp['neighborhood']=neighborhood.iloc[j]['Neighborhood']\n",
    "    restaurant_by_neighborhood = pd.concat([restaurant_by_neighborhood,list_temp],sort=False)\n",
    "# export the data to csv\n",
    "restaurant_by_neighborhood.to_csv('restaurant_by_neighborhood.csv')"
   ]
  },
  {
   "cell_type": "markdown",
   "metadata": {},
   "source": [
    "### Restaurant by cuisine\n",
    "Extract the first 150 data in each restaurant category from yelp."
   ]
  },
  {
   "cell_type": "code",
   "execution_count": 9,
   "metadata": {},
   "outputs": [],
   "source": [
    "records = range(0,100,50)\n",
    "restaurant_by_cuisine=pd.DataFrame()\n",
    "for rest_type in list(restaurant_categories['alias']):\n",
    "    list_temp = []\n",
    "    for i in records:\n",
    "        url_params = {\n",
    "            'term': 'restaurants',\n",
    "            'location': 'seattle',\n",
    "            'limit': SEARCH_LIMIT,\n",
    "            'categories': rest_type,\n",
    "            'offset':i\n",
    "        }\n",
    "        temp = request(API_HOST, SEARCH_PATH+'search', API_KEY, url_params)['businesses']\n",
    "        #temp = search(api_key, type_temp,'seattle',i)['businesses']\n",
    "        list_temp = list_temp + temp\n",
    "    list_temp = pd.DataFrame(list_temp)\n",
    "    list_temp['cuisine']=rest_type\n",
    "    restaurant_by_cuisine = pd.concat([restaurant_by_cuisine,list_temp],sort=False)\n",
    "# export the data to csv\n",
    "restaurant_by_cuisine.to_csv('restaurant_by_cuisine.csv')"
   ]
  },
  {
   "cell_type": "markdown",
   "metadata": {},
   "source": [
    "### Reviews"
   ]
  },
  {
   "cell_type": "code",
   "execution_count": 79,
   "metadata": {},
   "outputs": [],
   "source": [
    "# create subset from by_cuisine\n",
    "african = by_cuisine[by_cuisine['cuisine']=='african']\n",
    "for i in range(len(african)):\n",
    "    idtemp = african.iloc[i].id\n",
    "    url_params = {}\n",
    "    request(API_HOST, SEARCH_PATH+idtemp+'/reviews', API_KEY, url_params)['reviews']\n",
    "    "
   ]
  },
  {
   "cell_type": "code",
   "execution_count": 96,
   "metadata": {},
   "outputs": [],
   "source": [
    "african.to_csv('african.csv')"
   ]
  },
  {
   "cell_type": "code",
   "execution_count": 93,
   "metadata": {},
   "outputs": [
    {
     "data": {
      "text/plain": [
       "'t9rfY_0J9YrsjAHw1FcupA'"
      ]
     },
     "execution_count": 93,
     "metadata": {},
     "output_type": "execute_result"
    }
   ],
   "source": [
    "idtemp = african.iloc[0].id\n",
    "idtemp\n",
    "#url_params = {}\n",
    "#reviews = request(API_HOST, SEARCH_PATH+idtemp+'/reviews', API_KEY, url_params)['reviews']"
   ]
  },
  {
   "cell_type": "code",
   "execution_count": 92,
   "metadata": {},
   "outputs": [
    {
     "data": {
      "text/plain": [
       "[{'id': 'gqi50EECFOtP17Hx2D7FUw',\n",
       "  'url': 'https://www.yelp.com/biz/salare-seattle?adjust_creative=1IljKHTYmX99yWQTpvY92g&hrid=gqi50EECFOtP17Hx2D7FUw&utm_campaign=yelp_api_v3&utm_medium=api_v3_business_reviews&utm_source=1IljKHTYmX99yWQTpvY92g',\n",
       "  'text': \"Met a friend for Sunday brunch, and she chose Salare. What a lovely spot! From the moment you walk in, it has a very 'brunch' feel (if that makes sense)....\",\n",
       "  'rating': 4,\n",
       "  'time_created': '2020-03-01 16:27:34',\n",
       "  'user': {'id': 'TgG3J58v5bEhMB8YCQ1TbQ',\n",
       "   'profile_url': 'https://www.yelp.com/user_details?userid=TgG3J58v5bEhMB8YCQ1TbQ',\n",
       "   'image_url': 'https://s3-media1.fl.yelpcdn.com/photo/jXI9yPC82saiTkNmA0ztNA/o.jpg',\n",
       "   'name': 'Cristina P.'}},\n",
       " {'id': 'k-itO6leoEZWyNpowFeYWw',\n",
       "  'url': 'https://www.yelp.com/biz/salare-seattle?adjust_creative=1IljKHTYmX99yWQTpvY92g&hrid=k-itO6leoEZWyNpowFeYWw&utm_campaign=yelp_api_v3&utm_medium=api_v3_business_reviews&utm_source=1IljKHTYmX99yWQTpvY92g',\n",
       "  'text': \"We came here to celebrate the birthday boy's big day and had a great dinner made possible by the friendly staff, attention to plating details, and unique...\",\n",
       "  'rating': 4,\n",
       "  'time_created': '2020-02-22 08:06:28',\n",
       "  'user': {'id': 'aL6PPesxIgh1OR1vEXR11Q',\n",
       "   'profile_url': 'https://www.yelp.com/user_details?userid=aL6PPesxIgh1OR1vEXR11Q',\n",
       "   'image_url': 'https://s3-media3.fl.yelpcdn.com/photo/aGO2w1dYqxLFYYHmnoXFRQ/o.jpg',\n",
       "   'name': 'Courtney L.'}},\n",
       " {'id': 'xDEB8TqtL1QlV9PZwnWHQw',\n",
       "  'url': 'https://www.yelp.com/biz/salare-seattle?adjust_creative=1IljKHTYmX99yWQTpvY92g&hrid=xDEB8TqtL1QlV9PZwnWHQw&utm_campaign=yelp_api_v3&utm_medium=api_v3_business_reviews&utm_source=1IljKHTYmX99yWQTpvY92g',\n",
       "  'text': \"A nice and cozy restaurant that's on a more high end side; good for dinner dates or special occasions. Amazing service! Would love to give them a 5 star...\",\n",
       "  'rating': 4,\n",
       "  'time_created': '2020-02-12 22:16:20',\n",
       "  'user': {'id': 'aNyK3WYuM1-UauAu9W8duw',\n",
       "   'profile_url': 'https://www.yelp.com/user_details?userid=aNyK3WYuM1-UauAu9W8duw',\n",
       "   'image_url': 'https://s3-media3.fl.yelpcdn.com/photo/E7YENRSpVP2_3p8m_yPUkQ/o.jpg',\n",
       "   'name': 'Maggie S.'}}]"
      ]
     },
     "execution_count": 92,
     "metadata": {},
     "output_type": "execute_result"
    }
   ],
   "source": [
    "reviews"
   ]
  },
  {
   "cell_type": "markdown",
   "metadata": {},
   "source": [
    "## 4 Clean the data"
   ]
  },
  {
   "cell_type": "code",
   "execution_count": 56,
   "metadata": {},
   "outputs": [
    {
     "name": "stderr",
     "output_type": "stream",
     "text": [
      "/Users/serenalin/anaconda3/lib/python3.7/site-packages/pandas/core/indexing.py:205: SettingWithCopyWarning: \n",
      "A value is trying to be set on a copy of a slice from a DataFrame\n",
      "\n",
      "See the caveats in the documentation: http://pandas.pydata.org/pandas-docs/stable/user_guide/indexing.html#returning-a-view-versus-a-copy\n",
      "  self._setitem_with_indexer(indexer, value)\n"
     ]
    }
   ],
   "source": [
    "# expand location and coordinates, remove duplicates\n",
    "by_cuisine = clean(restaurant_by_cuisine)\n",
    "# export the data to csv\n",
    "by_cuisine.to_csv('by_cuisine_cleaned.csv')"
   ]
  },
  {
   "cell_type": "code",
   "execution_count": 103,
   "metadata": {},
   "outputs": [],
   "source": [
    "by_neighborhood = clean(restaurant_by_neighborhood)\n",
    "# export the data to csv\n",
    "by_neighborhood.to_csv('by_neighborhood_cleaned.csv')"
   ]
  },
  {
   "cell_type": "code",
   "execution_count": 108,
   "metadata": {},
   "outputs": [
    {
     "data": {
      "text/plain": [
       "0                [{'alias': 'pizza', 'title': 'Pizza'}]\n",
       "1     [{'alias': 'bars', 'title': 'Bars'}, {'alias':...\n",
       "2     [{'alias': 'thai', 'title': 'Thai'}, {'alias':...\n",
       "3     [{'alias': 'filipino', 'title': 'Filipino'}, {...\n",
       "4     [{'alias': 'mediterranean', 'title': 'Mediterr...\n",
       "                            ...                        \n",
       "45    [{'alias': 'hotpot', 'title': 'Hot Pot'}, {'al...\n",
       "46    [{'alias': 'vietnamese', 'title': 'Vietnamese'...\n",
       "47    [{'alias': 'persian', 'title': 'Persian/Irania...\n",
       "48                 [{'alias': 'thai', 'title': 'Thai'}]\n",
       "49    [{'alias': 'shavedice', 'title': 'Shaved Ice'}...\n",
       "Name: categories, Length: 364, dtype: object"
      ]
     },
     "execution_count": 108,
     "metadata": {},
     "output_type": "execute_result"
    }
   ],
   "source": [
    "by_neighborhood[['neighborhood','name','address1','city','zip_code','review_count','categories','id']].to_csv('by_neighborhood_OED.csv')\n",
    "by_neighborhood['categories']"
   ]
  },
  {
   "cell_type": "code",
   "execution_count": 104,
   "metadata": {},
   "outputs": [
    {
     "data": {
      "text/html": [
       "<div>\n",
       "<style scoped>\n",
       "    .dataframe tbody tr th:only-of-type {\n",
       "        vertical-align: middle;\n",
       "    }\n",
       "\n",
       "    .dataframe tbody tr th {\n",
       "        vertical-align: top;\n",
       "    }\n",
       "\n",
       "    .dataframe thead th {\n",
       "        text-align: right;\n",
       "    }\n",
       "</style>\n",
       "<table border=\"1\" class=\"dataframe\">\n",
       "  <thead>\n",
       "    <tr style=\"text-align: right;\">\n",
       "      <th></th>\n",
       "      <th>id</th>\n",
       "    </tr>\n",
       "    <tr>\n",
       "      <th>neighborhood</th>\n",
       "      <th></th>\n",
       "    </tr>\n",
       "  </thead>\n",
       "  <tbody>\n",
       "    <tr>\n",
       "      <th>Central District</th>\n",
       "      <td>75</td>\n",
       "    </tr>\n",
       "    <tr>\n",
       "      <th>Chinatown/International District</th>\n",
       "      <td>72</td>\n",
       "    </tr>\n",
       "    <tr>\n",
       "      <th>Columbia City</th>\n",
       "      <td>55</td>\n",
       "    </tr>\n",
       "    <tr>\n",
       "      <th>University District</th>\n",
       "      <td>49</td>\n",
       "    </tr>\n",
       "    <tr>\n",
       "      <th>Delridge</th>\n",
       "      <td>32</td>\n",
       "    </tr>\n",
       "    <tr>\n",
       "      <th>Beacon Hill</th>\n",
       "      <td>23</td>\n",
       "    </tr>\n",
       "    <tr>\n",
       "      <th>Rainier Beach</th>\n",
       "      <td>18</td>\n",
       "    </tr>\n",
       "    <tr>\n",
       "      <th>South Park</th>\n",
       "      <td>17</td>\n",
       "    </tr>\n",
       "    <tr>\n",
       "      <th>Little Saigon</th>\n",
       "      <td>9</td>\n",
       "    </tr>\n",
       "    <tr>\n",
       "      <th>Seward Park</th>\n",
       "      <td>6</td>\n",
       "    </tr>\n",
       "    <tr>\n",
       "      <th>New Holly</th>\n",
       "      <td>5</td>\n",
       "    </tr>\n",
       "    <tr>\n",
       "      <th>Mt. Baker</th>\n",
       "      <td>3</td>\n",
       "    </tr>\n",
       "  </tbody>\n",
       "</table>\n",
       "</div>"
      ],
      "text/plain": [
       "                                  id\n",
       "neighborhood                        \n",
       "Central District                  75\n",
       "Chinatown/International District  72\n",
       "Columbia City                     55\n",
       "University District               49\n",
       "Delridge                          32\n",
       "Beacon Hill                       23\n",
       "Rainier Beach                     18\n",
       "South Park                        17\n",
       "Little Saigon                      9\n",
       "Seward Park                        6\n",
       "New Holly                          5\n",
       "Mt. Baker                          3"
      ]
     },
     "execution_count": 104,
     "metadata": {},
     "output_type": "execute_result"
    }
   ],
   "source": [
    "pd.DataFrame(by_neighborhood.groupby(['neighborhood']).id.count().sort_values(ascending=False))"
   ]
  },
  {
   "cell_type": "code",
   "execution_count": 17,
   "metadata": {},
   "outputs": [
    {
     "data": {
      "text/html": [
       "<div>\n",
       "<style scoped>\n",
       "    .dataframe tbody tr th:only-of-type {\n",
       "        vertical-align: middle;\n",
       "    }\n",
       "\n",
       "    .dataframe tbody tr th {\n",
       "        vertical-align: top;\n",
       "    }\n",
       "\n",
       "    .dataframe thead th {\n",
       "        text-align: right;\n",
       "    }\n",
       "</style>\n",
       "<table border=\"1\" class=\"dataframe\">\n",
       "  <thead>\n",
       "    <tr style=\"text-align: right;\">\n",
       "      <th></th>\n",
       "      <th>id</th>\n",
       "    </tr>\n",
       "    <tr>\n",
       "      <th>cuisine</th>\n",
       "      <th></th>\n",
       "    </tr>\n",
       "  </thead>\n",
       "  <tbody>\n",
       "    <tr>\n",
       "      <th>burgers</th>\n",
       "      <td>98</td>\n",
       "    </tr>\n",
       "    <tr>\n",
       "      <th>breakfast_brunch</th>\n",
       "      <td>97</td>\n",
       "    </tr>\n",
       "    <tr>\n",
       "      <th>italian</th>\n",
       "      <td>95</td>\n",
       "    </tr>\n",
       "    <tr>\n",
       "      <th>delis</th>\n",
       "      <td>91</td>\n",
       "    </tr>\n",
       "    <tr>\n",
       "      <th>cafes</th>\n",
       "      <td>85</td>\n",
       "    </tr>\n",
       "    <tr>\n",
       "      <th>...</th>\n",
       "      <td>...</td>\n",
       "    </tr>\n",
       "    <tr>\n",
       "      <th>brazilian</th>\n",
       "      <td>1</td>\n",
       "    </tr>\n",
       "    <tr>\n",
       "      <th>catalan</th>\n",
       "      <td>1</td>\n",
       "    </tr>\n",
       "    <tr>\n",
       "      <th>polynesian</th>\n",
       "      <td>1</td>\n",
       "    </tr>\n",
       "    <tr>\n",
       "      <th>persian</th>\n",
       "      <td>1</td>\n",
       "    </tr>\n",
       "    <tr>\n",
       "      <th>dinnertheater</th>\n",
       "      <td>1</td>\n",
       "    </tr>\n",
       "  </tbody>\n",
       "</table>\n",
       "<p>103 rows × 1 columns</p>\n",
       "</div>"
      ],
      "text/plain": [
       "                  id\n",
       "cuisine             \n",
       "burgers           98\n",
       "breakfast_brunch  97\n",
       "italian           95\n",
       "delis             91\n",
       "cafes             85\n",
       "...               ..\n",
       "brazilian          1\n",
       "catalan            1\n",
       "polynesian         1\n",
       "persian            1\n",
       "dinnertheater      1\n",
       "\n",
       "[103 rows x 1 columns]"
      ]
     },
     "execution_count": 17,
     "metadata": {},
     "output_type": "execute_result"
    }
   ],
   "source": [
    "pd.DataFrame(by_cuisine.groupby(['cuisine']).id.count().sort_values(ascending=False))"
   ]
  }
 ],
 "metadata": {
  "kernelspec": {
   "display_name": "Python 3",
   "language": "python",
   "name": "python3"
  },
  "language_info": {
   "codemirror_mode": {
    "name": "ipython",
    "version": 3
   },
   "file_extension": ".py",
   "mimetype": "text/x-python",
   "name": "python",
   "nbconvert_exporter": "python",
   "pygments_lexer": "ipython3",
   "version": "3.7.0"
  }
 },
 "nbformat": 4,
 "nbformat_minor": 2
}
